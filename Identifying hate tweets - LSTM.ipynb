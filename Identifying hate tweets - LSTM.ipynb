{
  "nbformat": 4,
  "nbformat_minor": 0,
  "metadata": {
    "colab": {
      "name": "TwitterSentimentAnalysis",
      "provenance": []
    },
    "kernelspec": {
      "name": "python3",
      "display_name": "Python 3"
    },
    "language_info": {
      "name": "python"
    },
    "accelerator": "GPU"
  },
  "cells": [
    {
      "cell_type": "markdown",
      "metadata": {
        "id": "tpQ65o3uVg9Z"
      },
      "source": [
        "# Twitter sentiment analysis V0 - baseline model\n",
        "- Features created: None\n",
        "- Model : LSTM\n",
        "- External preprocessing : GloVe word embedding"
      ]
    },
    {
      "cell_type": "markdown",
      "metadata": {
        "id": "b82cpEIvVwi8"
      },
      "source": [
        ""
      ]
    },
    {
      "cell_type": "code",
      "metadata": {
        "colab": {
          "base_uri": "https://localhost:8080/"
        },
        "id": "zyUmHNsVQZkS",
        "outputId": "7806a809-16ca-47c5-b5dd-f34e7771f9e5"
      },
      "source": [
        "from google.colab import drive\n",
        "drive.mount('/content/drive/')"
      ],
      "execution_count": null,
      "outputs": [
        {
          "output_type": "stream",
          "text": [
            "Mounted at /content/drive/\n"
          ],
          "name": "stdout"
        }
      ]
    },
    {
      "cell_type": "code",
      "metadata": {
        "colab": {
          "base_uri": "https://localhost:8080/",
          "height": 35
        },
        "id": "ze6leDIMPjKq",
        "outputId": "b26b079a-a02e-4aa9-e011-ad5c1ab8a615"
      },
      "source": [
        "from keras.models import Sequential\n",
        "\n",
        "from keras.layers import LSTM,Dense,Dropout,Embedding,Bidirectional\n",
        "from keras.preprocessing.text import Tokenizer\n",
        "from keras.preprocessing.sequence import pad_sequences\n",
        "from tqdm import tqdm\n",
        "import matplotlib.pyplot as plt\n",
        "import seaborn as sns\n",
        "import os\n",
        "import pandas as pd\n",
        "import numpy as np\n",
        "os.chdir(\"/content/drive/My Drive/Colab Notebooks/TwitterSentimentAnalysis/\")\n",
        "os.getcwd()"
      ],
      "execution_count": null,
      "outputs": [
        {
          "output_type": "execute_result",
          "data": {
            "application/vnd.google.colaboratory.intrinsic+json": {
              "type": "string"
            },
            "text/plain": [
              "'/content/drive/My Drive/Colab Notebooks/TwitterSentimentAnalysis'"
            ]
          },
          "metadata": {
            "tags": []
          },
          "execution_count": 2
        }
      ]
    },
    {
      "cell_type": "code",
      "metadata": {
        "id": "z1hDAgckQ30Y"
      },
      "source": [
        "train = pd.read_csv(\"train_E6oV3lV.csv\")\n",
        "test = pd.read_csv(\"test_tweets_anuFYb8.csv\")\n"
      ],
      "execution_count": null,
      "outputs": []
    },
    {
      "cell_type": "code",
      "metadata": {
        "id": "j6QNQIzz8UsZ"
      },
      "source": [
        "x = train['tweet']\n",
        "y = train['label']\n",
        "token  = Tokenizer()\n",
        "token.fit_on_texts(x)\n",
        "seq = token.texts_to_sequences(x)\n",
        "pad_seq = pad_sequences(seq, maxlen=300)\n",
        "vocab_size = len(token.word_index) + 1\n",
        "embedding_vector = np.load(\"glove.840B.300d.pkl\", allow_pickle=True)"
      ],
      "execution_count": null,
      "outputs": []
    },
    {
      "cell_type": "code",
      "metadata": {
        "colab": {
          "base_uri": "https://localhost:8080/"
        },
        "id": "WEGa1Gak-GI0",
        "outputId": "1dfd57e5-6b8a-4252-ecb1-9e7b14f07ce2"
      },
      "source": [
        "embedding_matrix = np.zeros((vocab_size,300))\n",
        "for word,i in tqdm(token.word_index.items()):\n",
        "  embedding_value = embedding_vector.get(word)\n",
        "  if embedding_value is not None:\n",
        "    embedding_matrix[i] = embedding_value"
      ],
      "execution_count": null,
      "outputs": [
        {
          "output_type": "stream",
          "text": [
            "100%|██████████| 45889/45889 [00:00<00:00, 591716.67it/s]\n"
          ],
          "name": "stderr"
        }
      ]
    },
    {
      "cell_type": "code",
      "metadata": {
        "id": "wTArCudcfu4d"
      },
      "source": [
        "train_lim = int(len(embedding_matrix) * 0.95)\n",
        "train_matrix = embedding_matrix[:train_lim]\n",
        "test_matrix = embedding_matrix[train_lim:]"
      ],
      "execution_count": null,
      "outputs": []
    },
    {
      "cell_type": "code",
      "metadata": {
        "id": "iUMFBLdweHNr"
      },
      "source": [
        "import tensorflow as tf\n",
        "from tensorflow.keras.models import Sequential\n",
        "from tensorflow.keras.layers import LSTM,Dense,Dropout,Embedding,Bidirectional"
      ],
      "execution_count": null,
      "outputs": []
    },
    {
      "cell_type": "code",
      "metadata": {
        "colab": {
          "base_uri": "https://localhost:8080/",
          "height": 35
        },
        "id": "N2ljY4hFArFj",
        "outputId": "96dd5aa2-b54b-4999-fe30-7835dd325692"
      },
      "source": [
        "tf.test.gpu_device_name()"
      ],
      "execution_count": null,
      "outputs": [
        {
          "output_type": "execute_result",
          "data": {
            "application/vnd.google.colaboratory.intrinsic+json": {
              "type": "string"
            },
            "text/plain": [
              "'/device:GPU:0'"
            ]
          },
          "metadata": {
            "tags": []
          },
          "execution_count": 10
        }
      ]
    },
    {
      "cell_type": "code",
      "metadata": {
        "id": "HI9diBkqKmBO"
      },
      "source": [
        "?model.compile"
      ],
      "execution_count": null,
      "outputs": []
    },
    {
      "cell_type": "code",
      "metadata": {
        "id": "rpE7A4AnLd3B"
      },
      "source": [
        "from tensorflow.keras import backend as K\n",
        "import tensorflow as tf\n",
        "def f1(y_true, y_pred):\n",
        "    y_pred = K.round(y_pred)\n",
        "    tp = K.sum(K.cast(y_true*y_pred, 'float'), axis=0)\n",
        "    tn = K.sum(K.cast((1-y_true)*(1-y_pred), 'float'), axis=0)\n",
        "    fp = K.sum(K.cast((1-y_true)*y_pred, 'float'), axis=0)\n",
        "    fn = K.sum(K.cast(y_true*(1-y_pred), 'float'), axis=0)\n",
        "\n",
        "    p = tp / (tp + fp + K.epsilon())\n",
        "    r = tp / (tp + fn + K.epsilon())\n",
        "\n",
        "    f1 = 2*p*r / (p+r+K.epsilon())\n",
        "    f1 = tf.where(tf.math.is_nan(f1), tf.zeros_like(f1), f1)\n",
        "    return K.mean(f1)\n",
        "\n",
        "def f1_loss(y_true, y_pred):\n",
        "    \n",
        "    tp = K.sum(K.cast(y_true*y_pred, 'float'), axis=0)\n",
        "    tn = K.sum(K.cast((1-y_true)*(1-y_pred), 'float'), axis=0)\n",
        "    fp = K.sum(K.cast((1-y_true)*y_pred, 'float'), axis=0)\n",
        "    fn = K.sum(K.cast(y_true*(1-y_pred), 'float'), axis=0)\n",
        "\n",
        "    p = tp / (tp + fp + K.epsilon())\n",
        "    r = tp / (tp + fn + K.epsilon())\n",
        "\n",
        "    f1 = 2*p*r / (p+r+K.epsilon())\n",
        "    f1 = tf.where(tf.math.is_nan(f1), tf.zeros_like(f1), f1)\n",
        "    return 1 - K.mean(f1)"
      ],
      "execution_count": null,
      "outputs": []
    },
    {
      "cell_type": "code",
      "metadata": {
        "colab": {
          "base_uri": "https://localhost:8080/"
        },
        "id": "3ywmbhN0DLM6",
        "outputId": "0a0a2d20-cb60-436b-97c1-c4aa0e94c110"
      },
      "source": [
        "model = Sequential()\n",
        "model.add(Embedding(vocab_size,300,weights = [embedding_matrix],input_length=300,trainable = False))\n",
        "model.add(Bidirectional(LSTM(75)))\n",
        "model.add(Dense(32,activation = 'relu'))\n",
        "model.add(Dense(1,activation = 'sigmoid'))\n",
        "model.compile(optimizer='adam',loss='binary_crossentropy',metrics = [f1,'accuracy'])\n",
        "history = model.fit(pad_seq,y,epochs = 20,batch_size=64,validation_split=0.2)"
      ],
      "execution_count": null,
      "outputs": [
        {
          "output_type": "stream",
          "text": [
            "Epoch 1/20\n",
            "400/400 [==============================] - 19s 41ms/step - loss: 0.2154 - f1: 0.2622 - accuracy: 0.9304 - val_loss: 0.1297 - val_f1: 0.4968 - val_accuracy: 0.9498\n",
            "Epoch 2/20\n",
            "400/400 [==============================] - 15s 38ms/step - loss: 0.1168 - f1: 0.6130 - accuracy: 0.9570 - val_loss: 0.1201 - val_f1: 0.5777 - val_accuracy: 0.9556\n",
            "Epoch 3/20\n",
            "400/400 [==============================] - 15s 37ms/step - loss: 0.0950 - f1: 0.6912 - accuracy: 0.9664 - val_loss: 0.1186 - val_f1: 0.5943 - val_accuracy: 0.9567\n",
            "Epoch 4/20\n",
            "400/400 [==============================] - 15s 38ms/step - loss: 0.0791 - f1: 0.7450 - accuracy: 0.9715 - val_loss: 0.1137 - val_f1: 0.5913 - val_accuracy: 0.9592\n",
            "Epoch 5/20\n",
            "400/400 [==============================] - 15s 38ms/step - loss: 0.0617 - f1: 0.7895 - accuracy: 0.9781 - val_loss: 0.1181 - val_f1: 0.6328 - val_accuracy: 0.9595\n",
            "Epoch 6/20\n",
            "400/400 [==============================] - 15s 37ms/step - loss: 0.0427 - f1: 0.8780 - accuracy: 0.9858 - val_loss: 0.1344 - val_f1: 0.6135 - val_accuracy: 0.9606\n",
            "Epoch 7/20\n",
            "400/400 [==============================] - 15s 38ms/step - loss: 0.0272 - f1: 0.9341 - accuracy: 0.9922 - val_loss: 0.1598 - val_f1: 0.6227 - val_accuracy: 0.9611\n",
            "Epoch 8/20\n",
            "400/400 [==============================] - 15s 38ms/step - loss: 0.0185 - f1: 0.9301 - accuracy: 0.9952 - val_loss: 0.1677 - val_f1: 0.6411 - val_accuracy: 0.9609\n",
            "Epoch 9/20\n",
            "400/400 [==============================] - 15s 38ms/step - loss: 0.0120 - f1: 0.9720 - accuracy: 0.9972 - val_loss: 0.2094 - val_f1: 0.6468 - val_accuracy: 0.9598\n",
            "Epoch 10/20\n",
            "400/400 [==============================] - 15s 37ms/step - loss: 0.0074 - f1: 0.9719 - accuracy: 0.9979 - val_loss: 0.2277 - val_f1: 0.6161 - val_accuracy: 0.9582\n",
            "Epoch 11/20\n",
            "400/400 [==============================] - 15s 37ms/step - loss: 0.0074 - f1: 0.9777 - accuracy: 0.9980 - val_loss: 0.2449 - val_f1: 0.6365 - val_accuracy: 0.9568\n",
            "Epoch 12/20\n",
            "400/400 [==============================] - 15s 38ms/step - loss: 0.0063 - f1: 0.9864 - accuracy: 0.9980 - val_loss: 0.2316 - val_f1: 0.6126 - val_accuracy: 0.9590\n",
            "Epoch 13/20\n",
            "400/400 [==============================] - 15s 38ms/step - loss: 0.0064 - f1: 0.9743 - accuracy: 0.9981 - val_loss: 0.2656 - val_f1: 0.6242 - val_accuracy: 0.9584\n",
            "Epoch 14/20\n",
            "400/400 [==============================] - 15s 38ms/step - loss: 0.0037 - f1: 0.9831 - accuracy: 0.9989 - val_loss: 0.2761 - val_f1: 0.6344 - val_accuracy: 0.9584\n",
            "Epoch 15/20\n",
            "400/400 [==============================] - 15s 38ms/step - loss: 0.0014 - f1: 0.9937 - accuracy: 0.9997 - val_loss: 0.2922 - val_f1: 0.6339 - val_accuracy: 0.9606\n",
            "Epoch 16/20\n",
            "400/400 [==============================] - 15s 37ms/step - loss: 0.0014 - f1: 0.9841 - accuracy: 0.9997 - val_loss: 0.3062 - val_f1: 0.6345 - val_accuracy: 0.9601\n",
            "Epoch 17/20\n",
            "400/400 [==============================] - 15s 38ms/step - loss: 3.5678e-04 - f1: 0.9883 - accuracy: 0.9999 - val_loss: 0.3323 - val_f1: 0.6239 - val_accuracy: 0.9604\n",
            "Epoch 18/20\n",
            "400/400 [==============================] - 15s 38ms/step - loss: 9.9668e-04 - f1: 0.9828 - accuracy: 0.9998 - val_loss: 0.3404 - val_f1: 0.6153 - val_accuracy: 0.9589\n",
            "Epoch 19/20\n",
            "400/400 [==============================] - 15s 38ms/step - loss: 0.0098 - f1: 0.9543 - accuracy: 0.9966 - val_loss: 0.1846 - val_f1: 0.5806 - val_accuracy: 0.9535\n",
            "Epoch 20/20\n",
            "400/400 [==============================] - 15s 38ms/step - loss: 0.0192 - f1: 0.9354 - accuracy: 0.9930 - val_loss: 0.2396 - val_f1: 0.6135 - val_accuracy: 0.9559\n"
          ],
          "name": "stdout"
        }
      ]
    },
    {
      "cell_type": "code",
      "metadata": {
        "colab": {
          "base_uri": "https://localhost:8080/",
          "height": 206
        },
        "id": "dZNgR5moDtKA",
        "outputId": "d26e43dc-a269-4733-a5dd-ebd87672d351"
      },
      "source": [
        "testing = pd.read_csv('sample_submission_gfvA5FD.csv')\n",
        "testing.head()"
      ],
      "execution_count": null,
      "outputs": [
        {
          "output_type": "execute_result",
          "data": {
            "text/html": [
              "<div>\n",
              "<style scoped>\n",
              "    .dataframe tbody tr th:only-of-type {\n",
              "        vertical-align: middle;\n",
              "    }\n",
              "\n",
              "    .dataframe tbody tr th {\n",
              "        vertical-align: top;\n",
              "    }\n",
              "\n",
              "    .dataframe thead th {\n",
              "        text-align: right;\n",
              "    }\n",
              "</style>\n",
              "<table border=\"1\" class=\"dataframe\">\n",
              "  <thead>\n",
              "    <tr style=\"text-align: right;\">\n",
              "      <th></th>\n",
              "      <th>id</th>\n",
              "      <th>label</th>\n",
              "    </tr>\n",
              "  </thead>\n",
              "  <tbody>\n",
              "    <tr>\n",
              "      <th>0</th>\n",
              "      <td>31963</td>\n",
              "      <td>0</td>\n",
              "    </tr>\n",
              "    <tr>\n",
              "      <th>1</th>\n",
              "      <td>31964</td>\n",
              "      <td>0</td>\n",
              "    </tr>\n",
              "    <tr>\n",
              "      <th>2</th>\n",
              "      <td>31965</td>\n",
              "      <td>0</td>\n",
              "    </tr>\n",
              "    <tr>\n",
              "      <th>3</th>\n",
              "      <td>31966</td>\n",
              "      <td>0</td>\n",
              "    </tr>\n",
              "    <tr>\n",
              "      <th>4</th>\n",
              "      <td>31967</td>\n",
              "      <td>0</td>\n",
              "    </tr>\n",
              "  </tbody>\n",
              "</table>\n",
              "</div>"
            ],
            "text/plain": [
              "      id  label\n",
              "0  31963      0\n",
              "1  31964      0\n",
              "2  31965      0\n",
              "3  31966      0\n",
              "4  31967      0"
            ]
          },
          "metadata": {
            "tags": []
          },
          "execution_count": 70
        }
      ]
    },
    {
      "cell_type": "code",
      "metadata": {
        "colab": {
          "base_uri": "https://localhost:8080/"
        },
        "id": "6wjqK4PREtoi",
        "outputId": "9967e842-6e19-4453-fc8d-35401fdda7c6"
      },
      "source": [
        "x_test = test['tweet']\n",
        "x_test = token.texts_to_sequences(x_test)\n",
        "testing_seq = pad_sequences(x_test, maxlen=300)\n",
        "predict = np.round(model.predict(testing_seq)).astype('int')\n",
        "testing['label'] = predict\n",
        "testing.label.value_counts()"
      ],
      "execution_count": null,
      "outputs": [
        {
          "output_type": "execute_result",
          "data": {
            "text/plain": [
              "0    16183\n",
              "1     1014\n",
              "Name: label, dtype: int64"
            ]
          },
          "metadata": {
            "tags": []
          },
          "execution_count": 71
        }
      ]
    },
    {
      "cell_type": "code",
      "metadata": {
        "id": "4B-iOKyCjxXH"
      },
      "source": [
        "testing.to_csv(\"submission_out.csv\",index=False)"
      ],
      "execution_count": null,
      "outputs": []
    },
    {
      "cell_type": "markdown",
      "metadata": {
        "id": "6FZoxF2vVGEy"
      },
      "source": [
        "# Twitter sentiment analysis V1 - feature engineering\n",
        "- Features created: None\n",
        "- Model : LSTM\n",
        "- External preprocessing : GloVe word embedding"
      ]
    },
    {
      "cell_type": "code",
      "metadata": {
        "colab": {
          "base_uri": "https://localhost:8080/"
        },
        "id": "WLfF0xsWWtr1",
        "outputId": "4ff510ff-1798-49bb-c3d6-ecdba1ad9973"
      },
      "source": [
        "from google.colab import drive\n",
        "drive.mount('/content/drive/')"
      ],
      "execution_count": 1,
      "outputs": [
        {
          "output_type": "stream",
          "text": [
            "Mounted at /content/drive/\n"
          ],
          "name": "stdout"
        }
      ]
    },
    {
      "cell_type": "code",
      "metadata": {
        "id": "C1BuJ-CZWyg1"
      },
      "source": [
        "from keras.models import Sequential\n",
        "\n",
        "from keras.layers import LSTM,Dense,Dropout,Embedding,Bidirectional, Input\n",
        "from keras.preprocessing.text import Tokenizer\n",
        "from keras.preprocessing.sequence import pad_sequences\n",
        "from tqdm import tqdm\n",
        "import matplotlib.pyplot as plt\n",
        "import seaborn as sns\n",
        "import os\n",
        "import pandas as pd\n",
        "import numpy as np\n",
        "os.chdir(\"/content/drive/My Drive/Colab Notebooks/TwitterSentimentAnalysis/\")\n",
        "os.getcwd()\n",
        "\n",
        "train = pd.read_csv(\"train_E6oV3lV.csv\")\n",
        "test = pd.read_csv(\"test_tweets_anuFYb8.csv\")\n"
      ],
      "execution_count": 2,
      "outputs": []
    },
    {
      "cell_type": "code",
      "metadata": {
        "id": "VJ8ic1-tXYXB"
      },
      "source": [
        "\n",
        "import pandas as pd\n",
        "import numpy as np\n",
        "import string\n",
        "import re\n",
        "import gc\n",
        "from collections import defaultdict\n",
        "from wordcloud import STOPWORDS\n",
        "\n",
        "\n",
        "class FeatureCreation:\n",
        "\n",
        "\n",
        "  \"\"\"Takes pandas dataframe and text column name and returns a pandas dataframe \n",
        "  with additional word based columns\n",
        "  ...\n",
        "\n",
        "  Attributes\n",
        "  -----------\n",
        "  dataset: pandas dataframe input\n",
        "  textcol: feature name string\n",
        "\n",
        "  Methods\n",
        "  -----------\n",
        "  get_features()\n",
        "    returns dataframe with 9 word based features\n",
        "\n",
        "  \"\"\"\n",
        "\n",
        "\n",
        "  def __init__(self, dataset: pd.DataFrame, textcol: str):\n",
        "      self.dataset = dataset\n",
        "      self.textcol = textcol\n",
        "\n",
        "  def get_features(self):\n",
        "      df_var = self.dataset\n",
        "      # word count\n",
        "      text_col = self.textcol\n",
        "      df_var['word_count'] = df_var[text_col].apply(lambda x: len(str(x).split()))\n",
        "      # get unique words\n",
        "      df_var['unique_word_count'] = df_var[text_col].apply(\n",
        "          lambda x: len(set(str(x).split())))\n",
        "      # get stop words\n",
        "      df_var['stop_word_count'] = df_var[text_col].apply(\n",
        "          lambda x: len([w for w in str(x).lower().split() if w in STOPWORDS\n",
        "            ]))\n",
        "      df_var['url_count'] = df_var[text_col].apply(\n",
        "          lambda x: len([w for w in str(x).lower().split() if \"http\" in w or \"https\" in w]))\n",
        "      df_var['mean_word_length'] = df_var[text_col].apply(\n",
        "          lambda x: np.mean([len(w) for w in str(x).split()]))\n",
        "      df_var['char_count'] = df_var[text_col].apply(lambda x: len(str(x)))\n",
        "      df_var['punctuation_count'] = df_var[text_col].apply(\n",
        "          lambda x: len([w for w in str(x) if w in string.punctuation]))\n",
        "      df_var['hashtag_count'] = df_var[text_col].apply(\n",
        "          lambda x: len([w for w in str(x) if w == \"#\"]))\n",
        "      df_var['mention_count'] = df_var[text_col].apply(\n",
        "          lambda x: len([w for w in str(x) if w == \"@\"]))\n",
        "\n",
        "      return df_var\n",
        "\n",
        "  def remove_specials(self):\n",
        "    #pattern = re.compile('[\\W_]+')\n",
        "    dfcleantext = self.dataset\n",
        "    text_col = self.textcol\n",
        "    dfcleantext[text_col] = dfcleantext[text_col].apply(\n",
        "        lambda x: re.sub(r'([^\\s\\w]|_)+', '', x))\n",
        "    return dfcleantext\n",
        "      \n",
        "\n",
        "from tensorflow.keras import backend as K\n",
        "import tensorflow as tf\n",
        "def f1(y_true, y_pred):\n",
        "    y_pred = K.round(y_pred)\n",
        "    tp = K.sum(K.cast(y_true*y_pred, 'float'), axis=0)\n",
        "    tn = K.sum(K.cast((1-y_true)*(1-y_pred), 'float'), axis=0)\n",
        "    fp = K.sum(K.cast((1-y_true)*y_pred, 'float'), axis=0)\n",
        "    fn = K.sum(K.cast(y_true*(1-y_pred), 'float'), axis=0)\n",
        "\n",
        "    p = tp / (tp + fp + K.epsilon())\n",
        "    r = tp / (tp + fn + K.epsilon())\n",
        "\n",
        "    f1 = 2*p*r / (p+r+K.epsilon())\n",
        "    f1 = tf.where(tf.math.is_nan(f1), tf.zeros_like(f1), f1)\n",
        "    return K.mean(f1)\n",
        "\n",
        "def f1_loss(y_true, y_pred):\n",
        "    \n",
        "    tp = K.sum(K.cast(y_true*y_pred, 'float'), axis=0)\n",
        "    tn = K.sum(K.cast((1-y_true)*(1-y_pred), 'float'), axis=0)\n",
        "    fp = K.sum(K.cast((1-y_true)*y_pred, 'float'), axis=0)\n",
        "    fn = K.sum(K.cast(y_true*(1-y_pred), 'float'), axis=0)\n",
        "\n",
        "    p = tp / (tp + fp + K.epsilon())\n",
        "    r = tp / (tp + fn + K.epsilon())\n",
        "\n",
        "    f1 = 2*p*r / (p+r+K.epsilon())\n",
        "    f1 = tf.where(tf.math.is_nan(f1), tf.zeros_like(f1), f1)\n",
        "    return 1 - K.mean(f1)"
      ],
      "execution_count": 3,
      "outputs": []
    },
    {
      "cell_type": "code",
      "metadata": {
        "colab": {
          "base_uri": "https://localhost:8080/",
          "height": 204
        },
        "id": "soWrYI_EZhn2",
        "outputId": "9c874443-2f5a-4753-a865-1130edd64d70"
      },
      "source": [
        "train_obj = FeatureCreation(train,'tweet')\n",
        "train_features = train_obj.get_features()\n",
        "#train_obj = FeatureCreation(train_features,'tweet')\n",
        "#train_features = train_obj.remove_specials()\n",
        "train_features.head()"
      ],
      "execution_count": 4,
      "outputs": [
        {
          "output_type": "execute_result",
          "data": {
            "text/html": [
              "<div>\n",
              "<style scoped>\n",
              "    .dataframe tbody tr th:only-of-type {\n",
              "        vertical-align: middle;\n",
              "    }\n",
              "\n",
              "    .dataframe tbody tr th {\n",
              "        vertical-align: top;\n",
              "    }\n",
              "\n",
              "    .dataframe thead th {\n",
              "        text-align: right;\n",
              "    }\n",
              "</style>\n",
              "<table border=\"1\" class=\"dataframe\">\n",
              "  <thead>\n",
              "    <tr style=\"text-align: right;\">\n",
              "      <th></th>\n",
              "      <th>id</th>\n",
              "      <th>label</th>\n",
              "      <th>tweet</th>\n",
              "      <th>word_count</th>\n",
              "      <th>unique_word_count</th>\n",
              "      <th>stop_word_count</th>\n",
              "      <th>url_count</th>\n",
              "      <th>mean_word_length</th>\n",
              "      <th>char_count</th>\n",
              "      <th>punctuation_count</th>\n",
              "      <th>hashtag_count</th>\n",
              "      <th>mention_count</th>\n",
              "    </tr>\n",
              "  </thead>\n",
              "  <tbody>\n",
              "    <tr>\n",
              "      <th>0</th>\n",
              "      <td>1</td>\n",
              "      <td>0</td>\n",
              "      <td>@user when a father is dysfunctional and is s...</td>\n",
              "      <td>18</td>\n",
              "      <td>16</td>\n",
              "      <td>10</td>\n",
              "      <td>0</td>\n",
              "      <td>4.555556</td>\n",
              "      <td>102</td>\n",
              "      <td>3</td>\n",
              "      <td>1</td>\n",
              "      <td>1</td>\n",
              "    </tr>\n",
              "    <tr>\n",
              "      <th>1</th>\n",
              "      <td>2</td>\n",
              "      <td>0</td>\n",
              "      <td>@user @user thanks for #lyft credit i can't us...</td>\n",
              "      <td>19</td>\n",
              "      <td>18</td>\n",
              "      <td>6</td>\n",
              "      <td>0</td>\n",
              "      <td>5.315789</td>\n",
              "      <td>122</td>\n",
              "      <td>8</td>\n",
              "      <td>3</td>\n",
              "      <td>2</td>\n",
              "    </tr>\n",
              "    <tr>\n",
              "      <th>2</th>\n",
              "      <td>3</td>\n",
              "      <td>0</td>\n",
              "      <td>bihday your majesty</td>\n",
              "      <td>3</td>\n",
              "      <td>3</td>\n",
              "      <td>1</td>\n",
              "      <td>0</td>\n",
              "      <td>5.666667</td>\n",
              "      <td>21</td>\n",
              "      <td>0</td>\n",
              "      <td>0</td>\n",
              "      <td>0</td>\n",
              "    </tr>\n",
              "    <tr>\n",
              "      <th>3</th>\n",
              "      <td>4</td>\n",
              "      <td>0</td>\n",
              "      <td>#model   i love u take with u all the time in ...</td>\n",
              "      <td>14</td>\n",
              "      <td>13</td>\n",
              "      <td>5</td>\n",
              "      <td>0</td>\n",
              "      <td>4.928571</td>\n",
              "      <td>86</td>\n",
              "      <td>4</td>\n",
              "      <td>1</td>\n",
              "      <td>0</td>\n",
              "    </tr>\n",
              "    <tr>\n",
              "      <th>4</th>\n",
              "      <td>5</td>\n",
              "      <td>0</td>\n",
              "      <td>factsguide: society now    #motivation</td>\n",
              "      <td>4</td>\n",
              "      <td>4</td>\n",
              "      <td>0</td>\n",
              "      <td>0</td>\n",
              "      <td>8.000000</td>\n",
              "      <td>39</td>\n",
              "      <td>2</td>\n",
              "      <td>1</td>\n",
              "      <td>0</td>\n",
              "    </tr>\n",
              "  </tbody>\n",
              "</table>\n",
              "</div>"
            ],
            "text/plain": [
              "   id  label  ... hashtag_count  mention_count\n",
              "0   1      0  ...             1              1\n",
              "1   2      0  ...             3              2\n",
              "2   3      0  ...             0              0\n",
              "3   4      0  ...             1              0\n",
              "4   5      0  ...             1              0\n",
              "\n",
              "[5 rows x 12 columns]"
            ]
          },
          "metadata": {
            "tags": []
          },
          "execution_count": 4
        }
      ]
    },
    {
      "cell_type": "code",
      "metadata": {
        "colab": {
          "base_uri": "https://localhost:8080/",
          "height": 204
        },
        "id": "Y6cBI_ZIShPb",
        "outputId": "d32fd4da-8b32-41b1-f232-715973c08a55"
      },
      "source": [
        "test_obj = FeatureCreation(test,'tweet')\n",
        "test_features = test_obj.get_features()\n",
        "#test_obj = FeatureCreation(test_features,'tweet')\n",
        "#test_features = test_obj.remove_specials()\n",
        "test_features.head()"
      ],
      "execution_count": 5,
      "outputs": [
        {
          "output_type": "execute_result",
          "data": {
            "text/html": [
              "<div>\n",
              "<style scoped>\n",
              "    .dataframe tbody tr th:only-of-type {\n",
              "        vertical-align: middle;\n",
              "    }\n",
              "\n",
              "    .dataframe tbody tr th {\n",
              "        vertical-align: top;\n",
              "    }\n",
              "\n",
              "    .dataframe thead th {\n",
              "        text-align: right;\n",
              "    }\n",
              "</style>\n",
              "<table border=\"1\" class=\"dataframe\">\n",
              "  <thead>\n",
              "    <tr style=\"text-align: right;\">\n",
              "      <th></th>\n",
              "      <th>id</th>\n",
              "      <th>tweet</th>\n",
              "      <th>word_count</th>\n",
              "      <th>unique_word_count</th>\n",
              "      <th>stop_word_count</th>\n",
              "      <th>url_count</th>\n",
              "      <th>mean_word_length</th>\n",
              "      <th>char_count</th>\n",
              "      <th>punctuation_count</th>\n",
              "      <th>hashtag_count</th>\n",
              "      <th>mention_count</th>\n",
              "    </tr>\n",
              "  </thead>\n",
              "  <tbody>\n",
              "    <tr>\n",
              "      <th>0</th>\n",
              "      <td>31963</td>\n",
              "      <td>#studiolife #aislife #requires #passion #dedic...</td>\n",
              "      <td>9</td>\n",
              "      <td>9</td>\n",
              "      <td>1</td>\n",
              "      <td>0</td>\n",
              "      <td>8.777778</td>\n",
              "      <td>90</td>\n",
              "      <td>7</td>\n",
              "      <td>7</td>\n",
              "      <td>0</td>\n",
              "    </tr>\n",
              "    <tr>\n",
              "      <th>1</th>\n",
              "      <td>31964</td>\n",
              "      <td>@user #white #supremacists want everyone to s...</td>\n",
              "      <td>16</td>\n",
              "      <td>16</td>\n",
              "      <td>4</td>\n",
              "      <td>0</td>\n",
              "      <td>5.125000</td>\n",
              "      <td>101</td>\n",
              "      <td>5</td>\n",
              "      <td>4</td>\n",
              "      <td>1</td>\n",
              "    </tr>\n",
              "    <tr>\n",
              "      <th>2</th>\n",
              "      <td>31965</td>\n",
              "      <td>safe ways to heal your #acne!!    #altwaystohe...</td>\n",
              "      <td>9</td>\n",
              "      <td>9</td>\n",
              "      <td>2</td>\n",
              "      <td>0</td>\n",
              "      <td>6.333333</td>\n",
              "      <td>71</td>\n",
              "      <td>8</td>\n",
              "      <td>4</td>\n",
              "      <td>0</td>\n",
              "    </tr>\n",
              "    <tr>\n",
              "      <th>3</th>\n",
              "      <td>31966</td>\n",
              "      <td>is the hp and the cursed child book up for res...</td>\n",
              "      <td>22</td>\n",
              "      <td>20</td>\n",
              "      <td>8</td>\n",
              "      <td>0</td>\n",
              "      <td>5.409091</td>\n",
              "      <td>142</td>\n",
              "      <td>8</td>\n",
              "      <td>3</td>\n",
              "      <td>0</td>\n",
              "    </tr>\n",
              "    <tr>\n",
              "      <th>4</th>\n",
              "      <td>31967</td>\n",
              "      <td>3rd #bihday to my amazing, hilarious #nephew...</td>\n",
              "      <td>15</td>\n",
              "      <td>15</td>\n",
              "      <td>4</td>\n",
              "      <td>0</td>\n",
              "      <td>5.066667</td>\n",
              "      <td>93</td>\n",
              "      <td>4</td>\n",
              "      <td>2</td>\n",
              "      <td>0</td>\n",
              "    </tr>\n",
              "  </tbody>\n",
              "</table>\n",
              "</div>"
            ],
            "text/plain": [
              "      id  ... mention_count\n",
              "0  31963  ...             0\n",
              "1  31964  ...             1\n",
              "2  31965  ...             0\n",
              "3  31966  ...             0\n",
              "4  31967  ...             0\n",
              "\n",
              "[5 rows x 11 columns]"
            ]
          },
          "metadata": {
            "tags": []
          },
          "execution_count": 5
        }
      ]
    },
    {
      "cell_type": "code",
      "metadata": {
        "id": "ZNoK8K-uOdTq"
      },
      "source": [
        "x = train_features['tweet']\n",
        "y = train_features['label']\n",
        "token  = Tokenizer()\n",
        "token.fit_on_texts(x)\n",
        "seq = token.texts_to_sequences(x)\n",
        "pad_seq = pad_sequences(seq, maxlen=300)\n",
        "vocab_size = len(token.word_index) + 1"
      ],
      "execution_count": 6,
      "outputs": []
    },
    {
      "cell_type": "code",
      "metadata": {
        "colab": {
          "base_uri": "https://localhost:8080/"
        },
        "id": "SOm4GuRrTpie",
        "outputId": "e92795c1-cbec-4bf5-89e6-2e6bba248a55"
      },
      "source": [
        "embedding_vector = np.load(\"glove.840B.300d.pkl\", allow_pickle=True)\n",
        "\n",
        "embedding_matrix = np.zeros((vocab_size,300))\n",
        "for word,i in tqdm(token.word_index.items()):\n",
        "  embedding_value = embedding_vector.get(word)\n",
        "  if embedding_value is not None:\n",
        "    embedding_matrix[i] = embedding_value"
      ],
      "execution_count": 7,
      "outputs": [
        {
          "output_type": "stream",
          "text": [
            "100%|██████████| 45889/45889 [00:00<00:00, 514765.64it/s]\n"
          ],
          "name": "stderr"
        }
      ]
    },
    {
      "cell_type": "code",
      "metadata": {
        "id": "VjTumtfXBq_p"
      },
      "source": [
        "# Make our meta features usable for deep learning along with the text data in LSTM\n",
        "meta_features = ['word_count', 'unique_word_count',\n",
        "       'stop_word_count', 'url_count', 'mean_word_length', 'char_count',\n",
        "       'punctuation_count', 'hashtag_count', 'mention_count']\n",
        "train_meta = train_features[meta_features].values\n",
        "test_meta = test_features[meta_features].values\n"
      ],
      "execution_count": 8,
      "outputs": []
    },
    {
      "cell_type": "code",
      "metadata": {
        "id": "ReXKcHGWEzKP"
      },
      "source": [
        "from sklearn.preprocessing import normalize\n",
        "\n",
        "train_meta = normalize(train_meta, norm='max')\n"
      ],
      "execution_count": 9,
      "outputs": []
    },
    {
      "cell_type": "code",
      "metadata": {
        "id": "3UIG9FHdEd2p"
      },
      "source": [
        ""
      ],
      "execution_count": null,
      "outputs": []
    },
    {
      "cell_type": "code",
      "metadata": {
        "id": "tbmJrTtfcgIP"
      },
      "source": [
        "my_callbacks = [\n",
        "    tf.keras.callbacks.EarlyStopping(patience=6)]\n",
        "model = Sequential()\n",
        "model.add(Embedding(vocab_size,300,weights = [embedding_matrix],input_length=300,trainable = False))\n",
        "model.add(Dense(32,activation = 'relu'))\n",
        "model.add(Bidirectional(LSTM(32)))\n",
        "model.add(Dropout(0.5))\n",
        "model.add(Dense(16,activation = 'relu'))\n",
        "model.add(Dropout(0.5))\n",
        "model.add(Dense(1,activation = 'sigmoid'))\n",
        "model.compile(optimizer='adam',loss='binary_crossentropy',metrics = [f1,'accuracy'])\n",
        "history = model.fit(pad_seq,y,epochs = 16,batch_size=64,validation_split=0.2, callbacks=my_callbacks)"
      ],
      "execution_count": null,
      "outputs": []
    },
    {
      "cell_type": "code",
      "metadata": {
        "colab": {
          "base_uri": "https://localhost:8080/"
        },
        "id": "1uV_ImqxGxJP",
        "outputId": "ae3bb384-e16c-4498-beb6-fd1bc8b6ee7a"
      },
      "source": [
        "embedding_matrix.shape"
      ],
      "execution_count": 73,
      "outputs": [
        {
          "output_type": "execute_result",
          "data": {
            "text/plain": [
              "(45890, 300)"
            ]
          },
          "metadata": {
            "tags": []
          },
          "execution_count": 73
        }
      ]
    },
    {
      "cell_type": "code",
      "metadata": {
        "colab": {
          "base_uri": "https://localhost:8080/"
        },
        "id": "0wTSS5buCaD9",
        "outputId": "7efbf206-e1b5-44cf-b8a5-488e605b86ce"
      },
      "source": [
        "# create functional deep learning layers instead of Sequential\n",
        "from keras.layers import Input\n",
        "from keras.layers.merge import Concatenate\n",
        "from keras.models import Model\n",
        "from keras.regularizers import l1\n",
        "input_1 = Input(shape=(300,))\n",
        "input_2 = Input(shape=(9,))\n",
        "\n",
        "embedding_layer = Embedding(vocab_size, 300, weights=[embedding_matrix], trainable=False)(input_1)\n",
        "LSTM_Layer_1 = LSTM(64, dropout=0.4)(embedding_layer)\n",
        "\n",
        "dense_layer_1 = Dense(32, activation='relu', bias_regularizer=l1(0.005))(input_2)\n",
        "dense_layer_2 = Dense(32, activation='relu', bias_regularizer=l1(0.005))(dense_layer_1)\n",
        "\n",
        "concat_layer = Concatenate()([LSTM_Layer_1, dense_layer_2])\n",
        "dense_layer_3 = Dense(16, activation='relu')(concat_layer)\n",
        "output = Dense(1, activation='sigmoid')(dense_layer_3)\n",
        "model = Model(inputs=[input_1, input_2], outputs=output)\n",
        "\n",
        "model.compile(loss='binary_crossentropy', optimizer='adam', metrics=['accuracy',f1])\n",
        "print(model.summary())"
      ],
      "execution_count": 141,
      "outputs": [
        {
          "output_type": "stream",
          "text": [
            "Model: \"model_44\"\n",
            "__________________________________________________________________________________________________\n",
            "Layer (type)                    Output Shape         Param #     Connected to                     \n",
            "==================================================================================================\n",
            "input_107 (InputLayer)          [(None, 300)]        0                                            \n",
            "__________________________________________________________________________________________________\n",
            "input_108 (InputLayer)          [(None, 9)]          0                                            \n",
            "__________________________________________________________________________________________________\n",
            "embedding_53 (Embedding)        (None, 300, 300)     13767000    input_107[0][0]                  \n",
            "__________________________________________________________________________________________________\n",
            "dense_172 (Dense)               (None, 32)           320         input_108[0][0]                  \n",
            "__________________________________________________________________________________________________\n",
            "lstm_44 (LSTM)                  (None, 64)           93440       embedding_53[0][0]               \n",
            "__________________________________________________________________________________________________\n",
            "dense_173 (Dense)               (None, 32)           1056        dense_172[0][0]                  \n",
            "__________________________________________________________________________________________________\n",
            "concatenate_51 (Concatenate)    (None, 96)           0           lstm_44[0][0]                    \n",
            "                                                                 dense_173[0][0]                  \n",
            "__________________________________________________________________________________________________\n",
            "dense_174 (Dense)               (None, 16)           1552        concatenate_51[0][0]             \n",
            "__________________________________________________________________________________________________\n",
            "dense_175 (Dense)               (None, 1)            17          dense_174[0][0]                  \n",
            "==================================================================================================\n",
            "Total params: 13,863,385\n",
            "Trainable params: 96,385\n",
            "Non-trainable params: 13,767,000\n",
            "__________________________________________________________________________________________________\n",
            "None\n"
          ],
          "name": "stdout"
        }
      ]
    },
    {
      "cell_type": "code",
      "metadata": {
        "colab": {
          "base_uri": "https://localhost:8080/"
        },
        "id": "uApa296bEBzU",
        "outputId": "253bd153-c02c-43d2-f056-d7c936e689fe"
      },
      "source": [
        "my_callbacks = [\n",
        "    tf.keras.callbacks.EarlyStopping(patience=6)]\n",
        "history = model.fit(x=[pad_seq, train_meta], y=y, batch_size=512, epochs=30, verbose=1, validation_split=0.2,callbacks=my_callbacks)"
      ],
      "execution_count": 142,
      "outputs": [
        {
          "output_type": "stream",
          "text": [
            "Epoch 1/30\n",
            "50/50 [==============================] - 7s 110ms/step - loss: 0.4057 - accuracy: 0.8932 - f1: 0.0229 - val_loss: 0.1838 - val_accuracy: 0.9356 - val_f1: 0.1443\n",
            "Epoch 2/30\n",
            "50/50 [==============================] - 5s 100ms/step - loss: 0.1755 - accuracy: 0.9354 - f1: 0.2579 - val_loss: 0.1466 - val_accuracy: 0.9402 - val_f1: 0.3972\n",
            "Epoch 3/30\n",
            "50/50 [==============================] - 5s 99ms/step - loss: 0.1532 - accuracy: 0.9408 - f1: 0.4603 - val_loss: 0.1335 - val_accuracy: 0.9493 - val_f1: 0.5302\n",
            "Epoch 4/30\n",
            "50/50 [==============================] - 5s 100ms/step - loss: 0.1378 - accuracy: 0.9500 - f1: 0.5702 - val_loss: 0.1338 - val_accuracy: 0.9514 - val_f1: 0.5345\n",
            "Epoch 5/30\n",
            "50/50 [==============================] - 5s 99ms/step - loss: 0.1325 - accuracy: 0.9522 - f1: 0.5873 - val_loss: 0.1285 - val_accuracy: 0.9521 - val_f1: 0.5911\n",
            "Epoch 6/30\n",
            "50/50 [==============================] - 5s 100ms/step - loss: 0.1253 - accuracy: 0.9556 - f1: 0.6158 - val_loss: 0.1232 - val_accuracy: 0.9553 - val_f1: 0.5785\n",
            "Epoch 7/30\n",
            "50/50 [==============================] - 5s 101ms/step - loss: 0.1194 - accuracy: 0.9575 - f1: 0.6267 - val_loss: 0.1189 - val_accuracy: 0.9546 - val_f1: 0.6254\n",
            "Epoch 8/30\n",
            "50/50 [==============================] - 5s 100ms/step - loss: 0.1197 - accuracy: 0.9572 - f1: 0.6473 - val_loss: 0.1156 - val_accuracy: 0.9565 - val_f1: 0.6218\n",
            "Epoch 9/30\n",
            "50/50 [==============================] - 5s 100ms/step - loss: 0.1061 - accuracy: 0.9624 - f1: 0.6833 - val_loss: 0.1164 - val_accuracy: 0.9559 - val_f1: 0.6158\n",
            "Epoch 10/30\n",
            "50/50 [==============================] - 5s 99ms/step - loss: 0.1024 - accuracy: 0.9630 - f1: 0.7008 - val_loss: 0.1126 - val_accuracy: 0.9559 - val_f1: 0.6220\n",
            "Epoch 11/30\n",
            "50/50 [==============================] - 5s 100ms/step - loss: 0.1033 - accuracy: 0.9622 - f1: 0.6839 - val_loss: 0.1135 - val_accuracy: 0.9584 - val_f1: 0.6618\n",
            "Epoch 12/30\n",
            "50/50 [==============================] - 5s 101ms/step - loss: 0.0902 - accuracy: 0.9689 - f1: 0.7376 - val_loss: 0.1133 - val_accuracy: 0.9581 - val_f1: 0.6455\n",
            "Epoch 13/30\n",
            "50/50 [==============================] - 5s 101ms/step - loss: 0.0877 - accuracy: 0.9687 - f1: 0.7423 - val_loss: 0.1148 - val_accuracy: 0.9581 - val_f1: 0.6523\n",
            "Epoch 14/30\n",
            "50/50 [==============================] - 5s 100ms/step - loss: 0.0862 - accuracy: 0.9696 - f1: 0.7654 - val_loss: 0.1113 - val_accuracy: 0.9596 - val_f1: 0.6804\n",
            "Epoch 15/30\n",
            "50/50 [==============================] - 5s 99ms/step - loss: 0.0850 - accuracy: 0.9700 - f1: 0.7676 - val_loss: 0.1102 - val_accuracy: 0.9590 - val_f1: 0.6538\n",
            "Epoch 16/30\n",
            "50/50 [==============================] - 5s 100ms/step - loss: 0.0786 - accuracy: 0.9724 - f1: 0.7708 - val_loss: 0.1115 - val_accuracy: 0.9595 - val_f1: 0.6772\n",
            "Epoch 17/30\n",
            "50/50 [==============================] - 5s 100ms/step - loss: 0.0713 - accuracy: 0.9748 - f1: 0.7964 - val_loss: 0.1109 - val_accuracy: 0.9598 - val_f1: 0.6806\n",
            "Epoch 18/30\n",
            "50/50 [==============================] - 5s 100ms/step - loss: 0.0677 - accuracy: 0.9766 - f1: 0.8180 - val_loss: 0.1130 - val_accuracy: 0.9601 - val_f1: 0.7017\n",
            "Epoch 19/30\n",
            "50/50 [==============================] - 5s 101ms/step - loss: 0.0650 - accuracy: 0.9770 - f1: 0.8206 - val_loss: 0.1163 - val_accuracy: 0.9609 - val_f1: 0.6815\n",
            "Epoch 20/30\n",
            "50/50 [==============================] - 5s 100ms/step - loss: 0.0648 - accuracy: 0.9768 - f1: 0.8284 - val_loss: 0.1187 - val_accuracy: 0.9575 - val_f1: 0.6939\n",
            "Epoch 21/30\n",
            "50/50 [==============================] - 5s 99ms/step - loss: 0.0594 - accuracy: 0.9782 - f1: 0.8364 - val_loss: 0.1183 - val_accuracy: 0.9590 - val_f1: 0.6931\n"
          ],
          "name": "stdout"
        }
      ]
    },
    {
      "cell_type": "code",
      "metadata": {
        "colab": {
          "base_uri": "https://localhost:8080/",
          "height": 295
        },
        "id": "7W875KpV1nfD",
        "outputId": "f47e18e1-eeda-444c-add8-b6e97adf3ccf"
      },
      "source": [
        "from matplotlib import pyplot\n",
        "# plot train and validation loss\n",
        "pyplot.plot(history.history['loss'])\n",
        "pyplot.plot(history.history['val_loss'])\n",
        "pyplot.title('model train vs validation loss')\n",
        "pyplot.ylabel('loss')\n",
        "pyplot.xlabel('epoch')\n",
        "pyplot.legend(['train', 'validation'], loc='upper right')\n",
        "pyplot.show()"
      ],
      "execution_count": 143,
      "outputs": [
        {
          "output_type": "display_data",
          "data": {
            "image/png": "[encoded data removed]",
            "text/plain": [
              "<Figure size 432x288 with 1 Axes>"
            ]
          },
          "metadata": {
            "tags": [],
            "needs_background": "light"
          }
        }
      ]
    },
    {
      "cell_type": "code",
      "metadata": {
        "colab": {
          "base_uri": "https://localhost:8080/"
        },
        "id": "RXh71VqlVtQW",
        "outputId": "9c404a81-4630-49fe-919b-0adba981bb55"
      },
      "source": [
        "\n",
        "testing = pd.read_csv('sample_submission_gfvA5FD.csv')\n",
        "x_test = test['tweet']\n",
        "x_test = token.texts_to_sequences(x_test)\n",
        "testing_seq = pad_sequences(x_test, maxlen=300)\n",
        "test_meta = normalize(test_meta, norm='max', axis=0)\n",
        "predict = np.round(model.predict([testing_seq,test_meta])).astype('int')\n",
        "testing['label'] = predict\n",
        "testing.label.value_counts()"
      ],
      "execution_count": 144,
      "outputs": [
        {
          "output_type": "execute_result",
          "data": {
            "text/plain": [
              "0    16025\n",
              "1     1172\n",
              "Name: label, dtype: int64"
            ]
          },
          "metadata": {
            "tags": []
          },
          "execution_count": 144
        }
      ]
    },
    {
      "cell_type": "code",
      "metadata": {
        "id": "O8TuDForXCZQ"
      },
      "source": [
        "testing.to_csv(\"submission_out_v6.csv\",index=False)"
      ],
      "execution_count": 145,
      "outputs": []
    },
    {
      "cell_type": "code",
      "metadata": {
        "id": "kaojyUZnXMKJ"
      },
      "source": [
        "embedding_matrix.shape"
      ],
      "execution_count": null,
      "outputs": []
    },
    {
      "cell_type": "code",
      "metadata": {
        "id": "lcFXptk3ZD0y"
      },
      "source": [
        "train_features.shape"
      ],
      "execution_count": null,
      "outputs": []
    },
    {
      "cell_type": "code",
      "metadata": {
        "id": "d-dIbuiWZGeX"
      },
      "source": [
        ""
      ],
      "execution_count": null,
      "outputs": []
    }
  ]
}